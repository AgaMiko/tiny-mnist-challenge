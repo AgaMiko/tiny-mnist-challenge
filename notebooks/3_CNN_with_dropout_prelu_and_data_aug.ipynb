{
 "cells": [
  {
   "cell_type": "markdown",
   "metadata": {},
   "source": [
    "# Handwritten digits recognition using CNN"
   ]
  },
  {
   "cell_type": "markdown",
   "metadata": {},
   "source": [
    "Importing essential libraries"
   ]
  },
  {
   "cell_type": "code",
   "execution_count": 1,
   "metadata": {
    "_cell_guid": "b1076dfc-b9ad-4769-8c92-a6c4dae69d19",
    "_uuid": "8f2839f25d086af736a60e9eeb907d3b93b6e0e5"
   },
   "outputs": [
    {
     "name": "stderr",
     "output_type": "stream",
     "text": [
      "Using TensorFlow backend.\n"
     ]
    }
   ],
   "source": [
    "import numpy as np\n",
    "import pandas as pd\n",
    "import matplotlib.pyplot as plt\n",
    "import keras\n",
    "import os\n",
    "import csv\n",
    "import itertools\n",
    "from PIL import Image\n",
    "from keras.initializers import Constant\n",
    "from sklearn.metrics import confusion_matrix\n",
    "%matplotlib inline"
   ]
  },
  {
   "cell_type": "markdown",
   "metadata": {},
   "source": [
    "Data preprocessing"
   ]
  },
  {
   "cell_type": "code",
   "execution_count": 2,
   "metadata": {},
   "outputs": [
    {
     "data": {
      "text/html": [
       "<div>\n",
       "<style scoped>\n",
       "    .dataframe tbody tr th:only-of-type {\n",
       "        vertical-align: middle;\n",
       "    }\n",
       "\n",
       "    .dataframe tbody tr th {\n",
       "        vertical-align: top;\n",
       "    }\n",
       "\n",
       "    .dataframe thead th {\n",
       "        text-align: right;\n",
       "    }\n",
       "</style>\n",
       "<table border=\"1\" class=\"dataframe\">\n",
       "  <thead>\n",
       "    <tr style=\"text-align: right;\">\n",
       "      <th></th>\n",
       "      <th>id</th>\n",
       "      <th>category</th>\n",
       "    </tr>\n",
       "  </thead>\n",
       "  <tbody>\n",
       "    <tr>\n",
       "      <th>0</th>\n",
       "      <td>37172</td>\n",
       "      <td>5</td>\n",
       "    </tr>\n",
       "    <tr>\n",
       "      <th>1</th>\n",
       "      <td>37180</td>\n",
       "      <td>5</td>\n",
       "    </tr>\n",
       "    <tr>\n",
       "      <th>2</th>\n",
       "      <td>37185</td>\n",
       "      <td>5</td>\n",
       "    </tr>\n",
       "    <tr>\n",
       "      <th>3</th>\n",
       "      <td>37206</td>\n",
       "      <td>5</td>\n",
       "    </tr>\n",
       "    <tr>\n",
       "      <th>4</th>\n",
       "      <td>37208</td>\n",
       "      <td>5</td>\n",
       "    </tr>\n",
       "  </tbody>\n",
       "</table>\n",
       "</div>"
      ],
      "text/plain": [
       "      id  category\n",
       "0  37172         5\n",
       "1  37180         5\n",
       "2  37185         5\n",
       "3  37206         5\n",
       "4  37208         5"
      ]
     },
     "execution_count": 2,
     "metadata": {},
     "output_type": "execute_result"
    }
   ],
   "source": [
    "df = pd.read_csv('../input/msi-tinymnist2020/TinyMNIST/train.csv')\n",
    "df.head()"
   ]
  },
  {
   "cell_type": "code",
   "execution_count": 3,
   "metadata": {},
   "outputs": [
    {
     "name": "stdout",
     "output_type": "stream",
     "text": [
      "4000\n"
     ]
    }
   ],
   "source": [
    "y_train = np.array(df['category'])  #labels\n",
    "y_train = keras.utils.to_categorical(y_train, num_classes=10)\n",
    "print(len(y_train))"
   ]
  },
  {
   "cell_type": "code",
   "execution_count": 4,
   "metadata": {},
   "outputs": [
    {
     "name": "stdout",
     "output_type": "stream",
     "text": [
      "JPEG\n",
      "(28, 28)\n",
      "L\n",
      "Label:[0. 0. 0. 0. 1. 0. 0. 0. 0. 0.]\n",
      "[[  0   0   0   0   0   0   0   0   3   0   4   0   0   8   3   1   9   0\n",
      "    0   8   0   6   0   6   0   0   0   0]\n",
      " [  0   0   0   0   0   0   0   0   0   0   9   4   0   0   0   0   0  14\n",
      "    0   9  23   0   6   0   0   0   0   0]\n",
      " [  0   0   0   0   0   0   0   0   4   7   0   0   7   1   3   5   4   0\n",
      "    5   0   0   0   3   8   0   0   0   0]\n",
      " [  0   0   0   0   0   0   0   0   0   3   0   0   5   0   0   5   0   0\n",
      "   10   5   0  35   0   0   0   0   0   0]\n",
      " [  0   0   0   0   0   0   0   0   0   5   8  12   7   0   0   3  10   0\n",
      "    3   0   3   0   9   0   0   0   0   0]\n",
      " [  0   0   0   0   0   0   0   0   6   0   3   0   0  10   6   2   0   6\n",
      "  122 247   6  17   3   8   0   0   0   0]\n",
      " [  0   0   0   0   0   0   0   0   3   0  21   0   0  10   0   0   0   2\n",
      "  255 255   0   0   8   0   0   0   0   0]\n",
      " [  0   0   0   0   0   0   0   0   0  10 114  76   0   9   0   4   0 138\n",
      "  240 255   0  16   0   0   0   0   0   0]\n",
      " [  0   0   0   0   0   0   0   0  66 255 255 250   0   0   4   6   1 255\n",
      "  247 127  10   8   0  13   0   0   0   0]\n",
      " [  0   0   0   0   0   0   0   0 128 246 255 197   0  13  11   0 113 255\n",
      "  255   0   0   0  28   0   0   0   0   0]\n",
      " [  0   0   0   0   0   0   0   0 255 255  50   7   0   0   0   4 255 247\n",
      "  255   0  18   0   0   3   0   0   0   0]\n",
      " [  0   0   0   0   0   0   0   0 241 255   0   0  16   9   3  68 247 245\n",
      "  137   2   0  14   0   2   0   0   0   0]\n",
      " [  0   0   0   0   0   0   0   0 255 242  62  25   0   0   0 127 255 255\n",
      "    0   6   0   0   0   7   0   0   0   0]\n",
      " [  0   0   0   0   0   0   0   0 131 252 242 191 135  76 137 255 242 255\n",
      "  188 118 255 255 255 133   0   0   0   0]\n",
      " [  0   0   0   0   0   0   0   0  72 251 255 249 255 240 255 238 252 250\n",
      "  255 255 240 254  60   0   0   0   0   0]\n",
      " [  0   0   0   0   0   0   0   0   0   6 125 253 255 255 245 255 255 192\n",
      "  193 121  63   7   5   0   0   0   0   0]\n",
      " [  0   0   0   0   0   0   0   0   0   6   0   2   0  62 248 255 114  17\n",
      "    0  11   0   0  10   0   0   0   0   0]\n",
      " [  0   0   0   0   0   0   0   0  13   0   0   4  10  75 251 255  23   0\n",
      "    0  15   0   0   7   0   0   0   0   0]\n",
      " [  0   0   0   0   0   0   0   0   0   3  12   0   2 238 255 252   0   0\n",
      "    3   3   0   0   6   0   0   0   0   0]\n",
      " [  0   0   0   0   0   0   0   0   9   1   0  11   0 255 253 191   6  11\n",
      "    2   0   0   3   3   0   0   0   0   0]\n",
      " [  0   0   0   0   0   0   0   0   0  10  14   0   0 243 255  56   0   3\n",
      "    0   0   8   5   0   0   0   0   0   0]\n",
      " [  0   0   0   0   0   0   0   0   9   0   0   3 133 254 125   3   0   0\n",
      "    2   3   3   0   0   6   0   0   0   0]\n",
      " [  0   0   0   0   0   0   0   0   3   3  11   0 205 255  99   1   3   5\n",
      "    5   0   0   0   0   6   0   0   0   0]\n",
      " [  0   0   0   0   0   0   0   0   2   0   2   6 249 233 255 119   0   0\n",
      "    1   0   0   7   6   0   0   0   0   0]\n",
      " [  0   0   0   0   0   0   0   0   7   0   0  12 181 253  67   0   0   0\n",
      "    0   0   0   0   0   0   0   0   0   0]\n",
      " [  0   0   0   0   0   0   0   0   0  10  22   0   2  21   0   6   0   0\n",
      "    0   0   0   0   0   0   0   0   0   0]\n",
      " [  0   0   0   0   0   0   0   0   0   0   0   5   0   0   3   0   0   0\n",
      "    0   0   0   0   0   0   0   0   0   0]\n",
      " [  0   0   0   0   0   0   0   0  10   0   0  12   5   0  18   0   0   0\n",
      "    0   0   0   0   0   0   0   0   0   0]]\n"
     ]
    },
    {
     "data": {
      "image/png": "[encoded data removed]",
      "text/plain": [
       "<Figure size 432x288 with 1 Axes>"
      ]
     },
     "metadata": {
      "needs_background": "light"
     },
     "output_type": "display_data"
    }
   ],
   "source": [
    "\"\"\"Sorting inputs by id so it'd fit to y_train array\"\"\"\n",
    "x_train = []\n",
    "for dirs ,subdirs, files in os.walk('../input/msi-tinymnist2020/TinyMNIST/train'):\n",
    "    for file in files:\n",
    "        x_train.append((file, dirs))\n",
    "x_train.sort()\n",
    "image = Image.open(f'{x_train[1122][1]}/{x_train[1122][0]}')  #random pic no 1122\n",
    "\"\"\"Image data. Img size is the most crucial one.\"\"\"\n",
    "print(image.format)\n",
    "print(image.size)\n",
    "print(image.mode)\n",
    "plt.imshow(image)\n",
    "print(f'Label:{y_train[1122]}')  \n",
    "print(np.array(image))  #converting pic to matrix"
   ]
  },
  {
   "cell_type": "code",
   "execution_count": 5,
   "metadata": {},
   "outputs": [],
   "source": [
    "x_train = np.array([np.array(image) for image in[Image.open(f'{x_train[i][1]}/{x_train[i][0]}') for i in range(len(x_train))]])\n",
    "x_eval = x_train[3800:]  # used to validate trained model (200 samples)\n",
    "x_train = x_train[0:3800]"
   ]
  },
  {
   "cell_type": "code",
   "execution_count": 6,
   "metadata": {},
   "outputs": [],
   "source": [
    "x_train = x_train.reshape(x_train.shape[0], 28, 28, 1)\n",
    "x_train = x_train.astype('float32')\n",
    "x_train /= 255 #data normalisation (fastens computing)\n",
    "x_eval = x_eval.reshape(x_eval.shape[0], 28, 28, 1)\n",
    "x_eval = x_eval.astype('float32')\n",
    "y_eval = y_train[3800:]\n",
    "y_train = y_train[0:3800]"
   ]
  },
  {
   "cell_type": "markdown",
   "metadata": {},
   "source": [
    "Let's check arrays sizes before going on."
   ]
  },
  {
   "cell_type": "code",
   "execution_count": 7,
   "metadata": {},
   "outputs": [
    {
     "name": "stdout",
     "output_type": "stream",
     "text": [
      "(3800, 28, 28, 1)\n",
      "(3800, 10)\n",
      "(200, 28, 28, 1)\n",
      "(200, 10)\n"
     ]
    }
   ],
   "source": [
    "print(x_train.shape)\n",
    "print(y_train.shape)\n",
    "print(x_eval.shape)\n",
    "print(y_eval.shape)"
   ]
  },
  {
   "cell_type": "code",
   "execution_count": 8,
   "metadata": {
    "_cell_guid": "79c7e3d0-c299-4dcb-8224-4455121ee9b0",
    "_uuid": "d629ff2d2480ee46fbb7e2d37f6b5fab8052498a"
   },
   "outputs": [
    {
     "name": "stdout",
     "output_type": "stream",
     "text": [
      "(600, 28, 28, 1)\n"
     ]
    }
   ],
   "source": [
    "x_test = []\n",
    "for dirs ,subdirs, files in os.walk('../input/msi-tinymnist2020/TinyMNIST/test'):\n",
    "    for file in files:\n",
    "        x_test.append((file, dirs))\n",
    "x_test.sort()\n",
    "nazwy_jpg = [file for file, dirs in x_test]\n",
    "id_lst = [int(nazwa[4:].replace('.jpg', '')) for nazwa in nazwy_jpg]\n",
    "x_test = np.array([np.array(image) for image in[Image.open(f'{x_test[i][1]}/{x_test[i][0]}') for i in range(len(x_test))]])\n",
    "x_test = x_test.reshape(x_test.shape[0], 28, 28, 1)\n",
    "x_test = x_test.astype('float32')\n",
    "x_test /= 255\n",
    "print(x_test.shape)"
   ]
  },
  {
   "cell_type": "markdown",
   "metadata": {},
   "source": [
    "Creating data generator for the sake of input increase -> may result with better accuracy"
   ]
  },
  {
   "cell_type": "code",
   "execution_count": 9,
   "metadata": {},
   "outputs": [],
   "source": [
    "datagen = keras.preprocessing.image.ImageDataGenerator(\n",
    "        rotation_range=10,  \n",
    "        zoom_range = 0.10,  \n",
    "        width_shift_range=0.1, \n",
    "        height_shift_range=0.1,\n",
    "        vertical_flip=False, # avoid flipping in digits coz 6 d be confused with 9\n",
    "        horizontal_flip=False,\n",
    "        featurewise_center=False,  # set input mean to 0 over the dataset\n",
    "        samplewise_center=False,  # set each sample mean to 0\n",
    "        featurewise_std_normalization=False,  # divide inputs by std of the dataset\n",
    "        samplewise_std_normalization=False,  # divide each input by its std\n",
    "        zca_whitening=False)  # dont apply ZCA whitening "
   ]
  },
  {
   "cell_type": "markdown",
   "metadata": {},
   "source": [
    "Creating CNN model by using Sequential (keras lib) and fitting training data."
   ]
  },
  {
   "cell_type": "code",
   "execution_count": 10,
   "metadata": {},
   "outputs": [
    {
     "name": "stdout",
     "output_type": "stream",
     "text": [
      "Epoch 1/50\n",
      "29/29 [==============================] - 6s 196ms/step - loss: 1.4274 - accuracy: 0.5027 - val_loss: 16.0774 - val_accuracy: 0.9350\n",
      "Epoch 2/50\n",
      "29/29 [==============================] - 1s 41ms/step - loss: 0.5659 - accuracy: 0.8107 - val_loss: 26.0878 - val_accuracy: 0.9300\n",
      "Epoch 3/50\n",
      "29/29 [==============================] - 1s 47ms/step - loss: 0.3925 - accuracy: 0.8802 - val_loss: 9.7481 - val_accuracy: 0.9600\n",
      "Epoch 4/50\n",
      "29/29 [==============================] - 1s 42ms/step - loss: 0.3122 - accuracy: 0.9009 - val_loss: 9.1803 - val_accuracy: 0.9700\n",
      "Epoch 5/50\n",
      "29/29 [==============================] - 1s 42ms/step - loss: 0.2780 - accuracy: 0.9100 - val_loss: 9.9388 - val_accuracy: 0.9550\n",
      "Epoch 6/50\n",
      "29/29 [==============================] - 1s 42ms/step - loss: 0.2260 - accuracy: 0.9232 - val_loss: 6.2790 - val_accuracy: 0.9700\n",
      "Epoch 7/50\n",
      "29/29 [==============================] - 1s 42ms/step - loss: 0.2002 - accuracy: 0.9382 - val_loss: 8.2808 - val_accuracy: 0.9700\n",
      "\n",
      "Epoch 00007: ReduceLROnPlateau reducing learning rate to 0.0005000000237487257.\n",
      "Epoch 8/50\n",
      "29/29 [==============================] - 1s 44ms/step - loss: 0.1590 - accuracy: 0.9529 - val_loss: 11.2849 - val_accuracy: 0.9600\n",
      "Epoch 9/50\n",
      "29/29 [==============================] - 1s 42ms/step - loss: 0.1416 - accuracy: 0.9531 - val_loss: 6.2316 - val_accuracy: 0.9750\n",
      "Epoch 10/50\n",
      "29/29 [==============================] - 1s 43ms/step - loss: 0.1302 - accuracy: 0.9586 - val_loss: 12.0567 - val_accuracy: 0.9700\n",
      "Epoch 11/50\n",
      "29/29 [==============================] - 1s 43ms/step - loss: 0.1252 - accuracy: 0.9608 - val_loss: 5.5356 - val_accuracy: 0.9750\n",
      "Epoch 12/50\n",
      "29/29 [==============================] - 1s 48ms/step - loss: 0.1144 - accuracy: 0.9628 - val_loss: 11.2187 - val_accuracy: 0.9750\n",
      "\n",
      "Epoch 00012: ReduceLROnPlateau reducing learning rate to 0.0002500000118743628.\n",
      "Epoch 13/50\n",
      "29/29 [==============================] - 1s 43ms/step - loss: 0.1078 - accuracy: 0.9643 - val_loss: 6.9463 - val_accuracy: 0.9750\n",
      "Epoch 14/50\n",
      "29/29 [==============================] - 1s 43ms/step - loss: 0.0887 - accuracy: 0.9706 - val_loss: 3.9478 - val_accuracy: 0.9800\n",
      "Epoch 15/50\n",
      "29/29 [==============================] - 1s 43ms/step - loss: 0.1018 - accuracy: 0.9663 - val_loss: 4.5914 - val_accuracy: 0.9850\n",
      "Epoch 16/50\n",
      "29/29 [==============================] - 1s 43ms/step - loss: 0.0918 - accuracy: 0.9692 - val_loss: 3.0068 - val_accuracy: 0.9850\n",
      "Epoch 17/50\n",
      "29/29 [==============================] - 1s 43ms/step - loss: 0.0866 - accuracy: 0.9725 - val_loss: 6.7162 - val_accuracy: 0.9800\n",
      "Epoch 18/50\n",
      "29/29 [==============================] - 1s 44ms/step - loss: 0.0820 - accuracy: 0.9739 - val_loss: 4.1202 - val_accuracy: 0.9750\n",
      "\n",
      "Epoch 00018: ReduceLROnPlateau reducing learning rate to 0.0001250000059371814.\n",
      "Epoch 19/50\n",
      "29/29 [==============================] - 1s 43ms/step - loss: 0.0730 - accuracy: 0.9763 - val_loss: 4.6223 - val_accuracy: 0.9850\n",
      "Epoch 20/50\n",
      "29/29 [==============================] - 2s 52ms/step - loss: 0.0704 - accuracy: 0.9771 - val_loss: 2.3970 - val_accuracy: 0.9900\n",
      "Epoch 21/50\n",
      "29/29 [==============================] - 1s 43ms/step - loss: 0.0719 - accuracy: 0.9784 - val_loss: 5.5821 - val_accuracy: 0.9850\n",
      "Epoch 22/50\n",
      "29/29 [==============================] - 2s 58ms/step - loss: 0.0660 - accuracy: 0.9807 - val_loss: 6.0325 - val_accuracy: 0.9850\n",
      "Epoch 23/50\n",
      "29/29 [==============================] - 1s 44ms/step - loss: 0.0764 - accuracy: 0.9769 - val_loss: 4.3483 - val_accuracy: 0.9900\n",
      "\n",
      "Epoch 00023: ReduceLROnPlateau reducing learning rate to 6.25000029685907e-05.\n",
      "Epoch 24/50\n",
      "29/29 [==============================] - 1s 43ms/step - loss: 0.0643 - accuracy: 0.9780 - val_loss: 5.0708 - val_accuracy: 0.9850\n",
      "Epoch 25/50\n",
      "29/29 [==============================] - 1s 51ms/step - loss: 0.0649 - accuracy: 0.9771 - val_loss: 3.3913 - val_accuracy: 0.9850\n",
      "Epoch 26/50\n",
      "29/29 [==============================] - 1s 44ms/step - loss: 0.0633 - accuracy: 0.9788 - val_loss: 4.3857 - val_accuracy: 0.9850\n",
      "\n",
      "Epoch 00026: ReduceLROnPlateau reducing learning rate to 3.125000148429535e-05.\n",
      "Epoch 27/50\n",
      "29/29 [==============================] - 1s 43ms/step - loss: 0.0722 - accuracy: 0.9771 - val_loss: 4.2627 - val_accuracy: 0.9850\n",
      "Epoch 28/50\n",
      "29/29 [==============================] - 1s 46ms/step - loss: 0.0701 - accuracy: 0.9752 - val_loss: 4.6558 - val_accuracy: 0.9850\n",
      "Epoch 29/50\n",
      "29/29 [==============================] - 1s 45ms/step - loss: 0.0704 - accuracy: 0.9790 - val_loss: 4.4645 - val_accuracy: 0.9850\n",
      "\n",
      "Epoch 00029: ReduceLROnPlateau reducing learning rate to 1.5625000742147677e-05.\n",
      "Epoch 30/50\n",
      "29/29 [==============================] - 1s 40ms/step - loss: 0.0629 - accuracy: 0.9790 - val_loss: 3.7391 - val_accuracy: 0.9850\n",
      "Epoch 31/50\n",
      "29/29 [==============================] - 1s 43ms/step - loss: 0.0581 - accuracy: 0.9815 - val_loss: 4.0539 - val_accuracy: 0.9850\n",
      "Epoch 32/50\n",
      "29/29 [==============================] - 1s 42ms/step - loss: 0.0616 - accuracy: 0.9766 - val_loss: 4.0651 - val_accuracy: 0.9850\n",
      "\n",
      "Epoch 00032: ReduceLROnPlateau reducing learning rate to 1e-05.\n",
      "Epoch 33/50\n",
      "29/29 [==============================] - 1s 42ms/step - loss: 0.0652 - accuracy: 0.9788 - val_loss: 3.7064 - val_accuracy: 0.9850\n",
      "Epoch 34/50\n",
      "29/29 [==============================] - 1s 42ms/step - loss: 0.0659 - accuracy: 0.9774 - val_loss: 3.9114 - val_accuracy: 0.9850\n",
      "Epoch 35/50\n",
      "29/29 [==============================] - 1s 42ms/step - loss: 0.0590 - accuracy: 0.9793 - val_loss: 4.0648 - val_accuracy: 0.9850\n",
      "Epoch 36/50\n",
      "29/29 [==============================] - 1s 43ms/step - loss: 0.0608 - accuracy: 0.9811 - val_loss: 4.1776 - val_accuracy: 0.9850\n",
      "Epoch 37/50\n",
      "29/29 [==============================] - 1s 46ms/step - loss: 0.0624 - accuracy: 0.9799 - val_loss: 4.2941 - val_accuracy: 0.9850\n",
      "Epoch 38/50\n",
      "29/29 [==============================] - 1s 42ms/step - loss: 0.0667 - accuracy: 0.9774 - val_loss: 4.2454 - val_accuracy: 0.9850\n",
      "Epoch 39/50\n",
      "29/29 [==============================] - 1s 42ms/step - loss: 0.0642 - accuracy: 0.9782 - val_loss: 4.0221 - val_accuracy: 0.9850\n",
      "Epoch 40/50\n",
      "29/29 [==============================] - 1s 42ms/step - loss: 0.0662 - accuracy: 0.9777 - val_loss: 4.0627 - val_accuracy: 0.9850\n",
      "Epoch 41/50\n",
      "29/29 [==============================] - 1s 43ms/step - loss: 0.0523 - accuracy: 0.9852 - val_loss: 3.7806 - val_accuracy: 0.9850\n",
      "Epoch 42/50\n",
      "29/29 [==============================] - 1s 40ms/step - loss: 0.0569 - accuracy: 0.9820 - val_loss: 3.6111 - val_accuracy: 0.9850\n",
      "Epoch 43/50\n",
      "29/29 [==============================] - 1s 44ms/step - loss: 0.0620 - accuracy: 0.9812 - val_loss: 3.4650 - val_accuracy: 0.9850\n",
      "Epoch 44/50\n",
      "29/29 [==============================] - 1s 49ms/step - loss: 0.0579 - accuracy: 0.9824 - val_loss: 2.9584 - val_accuracy: 0.9850\n",
      "Epoch 45/50\n",
      "29/29 [==============================] - 1s 45ms/step - loss: 0.0572 - accuracy: 0.9803 - val_loss: 2.7575 - val_accuracy: 0.9850\n",
      "Epoch 46/50\n",
      "29/29 [==============================] - 1s 47ms/step - loss: 0.0712 - accuracy: 0.9763 - val_loss: 2.9208 - val_accuracy: 0.9900\n",
      "Epoch 47/50\n",
      "29/29 [==============================] - 1s 43ms/step - loss: 0.0618 - accuracy: 0.9799 - val_loss: 2.8884 - val_accuracy: 0.9850\n",
      "Epoch 48/50\n",
      "29/29 [==============================] - 1s 43ms/step - loss: 0.0548 - accuracy: 0.9809 - val_loss: 2.9621 - val_accuracy: 0.9900\n",
      "Epoch 49/50\n",
      "29/29 [==============================] - 1s 43ms/step - loss: 0.0586 - accuracy: 0.9796 - val_loss: 2.8747 - val_accuracy: 0.9900\n",
      "Epoch 50/50\n",
      "29/29 [==============================] - 1s 43ms/step - loss: 0.0616 - accuracy: 0.9807 - val_loss: 3.1190 - val_accuracy: 0.9900\n"
     ]
    },
    {
     "data": {
      "text/plain": [
       "<keras.callbacks.callbacks.History at 0x7fb908e8ff98>"
      ]
     },
     "execution_count": 10,
     "metadata": {},
     "output_type": "execute_result"
    }
   ],
   "source": [
    "model=keras.models.Sequential()\n",
    "model.add(keras.layers.Conv2D(filters=32,kernel_size=(5,5),padding='same',input_shape=(28,28,1)))\n",
    "model.add(keras.layers.PReLU(alpha_initializer=Constant(value=0.25)))\n",
    "model.add(keras.layers.Conv2D(filters=32,kernel_size=(5,5),padding='same'))\n",
    "model.add(keras.layers.PReLU(alpha_initializer=Constant(value=0.25)))\n",
    "model.add(keras.layers.MaxPool2D(pool_size=(2,2)))\n",
    "model.add(keras.layers.Dropout(0.25))\n",
    "model.add(keras.layers.Conv2D(filters=64,kernel_size=(5,5),padding='same'))\n",
    "model.add(keras.layers.PReLU(alpha_initializer=Constant(value=0.25)))\n",
    "model.add(keras.layers.Conv2D(filters=32,kernel_size=(5,5),padding='same'))\n",
    "model.add(keras.layers.PReLU(alpha_initializer=Constant(value=0.25)))\n",
    "model.add(keras.layers.MaxPool2D(pool_size=(2,2), strides=(2,2)))\n",
    "model.add(keras.layers.Dropout(0.25))\n",
    "model.add(keras.layers.Flatten())\n",
    "model.add(keras.layers.Dense(256))\n",
    "model.add(keras.layers.PReLU(alpha_initializer=Constant(value=0.25)))\n",
    "model.add(keras.layers.Dropout(0.5))\n",
    "model.add(keras.layers.Dense(10, activation='softmax'))\n",
    "    \n",
    "model.compile(loss=\"categorical_crossentropy\", optimizer=\"adam\", metrics=[\"accuracy\"])\n",
    "annealer = keras.callbacks.ReduceLROnPlateau(monitor='val_accuracy', \n",
    "                                            patience=3, \n",
    "                                            verbose=1, \n",
    "                                            factor=0.5, \n",
    "                                            min_lr=0.00001)\n",
    "optimizer = keras.optimizers.RMSprop(lr=0.001, rho=0.9, epsilon=1e-08, decay=0.0)\n",
    "model.compile(optimizer=optimizer,\n",
    "              loss='categorical_crossentropy',\n",
    "              metrics=['accuracy'])\n",
    "model.fit_generator(datagen.flow(x_train,y_train, batch_size=128), epochs=50, validation_data=(x_eval, y_eval),\n",
    "                    steps_per_epoch = x_train.shape[0]//128, callbacks=[annealer])"
   ]
  },
  {
   "cell_type": "code",
   "execution_count": 11,
   "metadata": {},
   "outputs": [
    {
     "data": {
      "image/png": "[encoded data removed]",
      "text/plain": [
       "<Figure size 432x288 with 2 Axes>"
      ]
     },
     "metadata": {
      "needs_background": "light"
     },
     "output_type": "display_data"
    }
   ],
   "source": [
    "def plot_confusion_matrix(cm, classes,\n",
    "                          normalize=False,\n",
    "                          title='Confusion matrix',\n",
    "                          cmap=plt.cm.Blues):\n",
    "\n",
    "    plt.imshow(cm, interpolation='nearest', cmap=cmap)\n",
    "    plt.title(title)\n",
    "    plt.colorbar()\n",
    "    tick_marks = np.arange(len(classes))\n",
    "    plt.xticks(tick_marks, classes, rotation=45)\n",
    "    plt.yticks(tick_marks, classes)\n",
    "\n",
    "    if normalize:\n",
    "        cm = cm.astype('float') / cm.sum(axis=1)[:, np.newaxis]\n",
    "\n",
    "    thresh = cm.max() / 2.\n",
    "    for i, j in itertools.product(range(cm.shape[0]), range(cm.shape[1])):\n",
    "        plt.text(j, i, cm[i, j],\n",
    "                 horizontalalignment=\"center\",\n",
    "                 color=\"white\" if cm[i, j] > thresh else \"black\")\n",
    "\n",
    "    plt.tight_layout()\n",
    "    plt.ylabel('True label')\n",
    "    plt.xlabel('Predicted label')\n",
    "\n",
    "# Predict the values from the validation dataset\n",
    "Y_pred = model.predict(x_eval)\n",
    "# Convert predictions classes to one hot vectors \n",
    "Y_pred_classes = np.argmax(y_eval,axis = 1) \n",
    "# Convert validation observations to one hot vectors\n",
    "Y_true = np.argmax(y_eval,axis = 1) \n",
    "# compute the confusion matrix\n",
    "confusion_mtx = confusion_matrix(Y_true, Y_pred_classes) \n",
    "# plot the confusion matrix\n",
    "plot_confusion_matrix(confusion_mtx, classes = range(10)) "
   ]
  },
  {
   "cell_type": "markdown",
   "metadata": {},
   "source": [
    "Class predictions"
   ]
  },
  {
   "cell_type": "code",
   "execution_count": 12,
   "metadata": {},
   "outputs": [],
   "source": [
    "y_test = model.predict_classes(x_test)\n",
    "y_test = [int(pred) for pred in y_test]"
   ]
  },
  {
   "cell_type": "markdown",
   "metadata": {},
   "source": [
    "CSV"
   ]
  },
  {
   "cell_type": "code",
   "execution_count": 13,
   "metadata": {},
   "outputs": [],
   "source": [
    "dane_out =zip(id_lst,y_test)\n",
    "d = dict(dane_out)\n",
    "csv_data =[]\n",
    "for k,v in sorted(d.items()):\n",
    "    d = {}\n",
    "    d['id'] = k\n",
    "    d['category'] = v\n",
    "    csv_data.append(d)"
   ]
  },
  {
   "cell_type": "code",
   "execution_count": 14,
   "metadata": {},
   "outputs": [],
   "source": [
    "csv_columns = ['id', 'category']\n",
    "csv_file = \"test.csv\"\n",
    "with open(csv_file, 'w') as csvfile:\n",
    "    writer = csv.DictWriter(csvfile, fieldnames=csv_columns)\n",
    "    writer.writeheader()\n",
    "    for data in csv_data:\n",
    "        writer.writerow(data)"
   ]
  },
  {
   "cell_type": "markdown",
   "metadata": {},
   "source": [
    "Let's check if CSV file's fine"
   ]
  },
  {
   "cell_type": "code",
   "execution_count": 15,
   "metadata": {},
   "outputs": [
    {
     "data": {
      "text/html": [
       "<div>\n",
       "<style scoped>\n",
       "    .dataframe tbody tr th:only-of-type {\n",
       "        vertical-align: middle;\n",
       "    }\n",
       "\n",
       "    .dataframe tbody tr th {\n",
       "        vertical-align: top;\n",
       "    }\n",
       "\n",
       "    .dataframe thead th {\n",
       "        text-align: right;\n",
       "    }\n",
       "</style>\n",
       "<table border=\"1\" class=\"dataframe\">\n",
       "  <thead>\n",
       "    <tr style=\"text-align: right;\">\n",
       "      <th></th>\n",
       "      <th>id</th>\n",
       "      <th>category</th>\n",
       "    </tr>\n",
       "  </thead>\n",
       "  <tbody>\n",
       "    <tr>\n",
       "      <th>0</th>\n",
       "      <td>0</td>\n",
       "      <td>1</td>\n",
       "    </tr>\n",
       "    <tr>\n",
       "      <th>1</th>\n",
       "      <td>1</td>\n",
       "      <td>0</td>\n",
       "    </tr>\n",
       "    <tr>\n",
       "      <th>2</th>\n",
       "      <td>2</td>\n",
       "      <td>1</td>\n",
       "    </tr>\n",
       "    <tr>\n",
       "      <th>3</th>\n",
       "      <td>3</td>\n",
       "      <td>4</td>\n",
       "    </tr>\n",
       "    <tr>\n",
       "      <th>4</th>\n",
       "      <td>4</td>\n",
       "      <td>0</td>\n",
       "    </tr>\n",
       "    <tr>\n",
       "      <th>5</th>\n",
       "      <td>5</td>\n",
       "      <td>0</td>\n",
       "    </tr>\n",
       "    <tr>\n",
       "      <th>6</th>\n",
       "      <td>6</td>\n",
       "      <td>7</td>\n",
       "    </tr>\n",
       "    <tr>\n",
       "      <th>7</th>\n",
       "      <td>7</td>\n",
       "      <td>3</td>\n",
       "    </tr>\n",
       "    <tr>\n",
       "      <th>8</th>\n",
       "      <td>8</td>\n",
       "      <td>5</td>\n",
       "    </tr>\n",
       "    <tr>\n",
       "      <th>9</th>\n",
       "      <td>9</td>\n",
       "      <td>3</td>\n",
       "    </tr>\n",
       "  </tbody>\n",
       "</table>\n",
       "</div>"
      ],
      "text/plain": [
       "   id  category\n",
       "0   0         1\n",
       "1   1         0\n",
       "2   2         1\n",
       "3   3         4\n",
       "4   4         0\n",
       "5   5         0\n",
       "6   6         7\n",
       "7   7         3\n",
       "8   8         5\n",
       "9   9         3"
      ]
     },
     "execution_count": 15,
     "metadata": {},
     "output_type": "execute_result"
    }
   ],
   "source": [
    "df2 = pd.read_csv('/kaggle/working/test.csv')\n",
    "df2.head(10)"
   ]
  }
 ],
 "metadata": {
  "kernelspec": {
   "display_name": "Python 3",
   "language": "python",
   "name": "python3"
  },
  "language_info": {
   "codemirror_mode": {
    "name": "ipython",
    "version": 3
   },
   "file_extension": ".py",
   "mimetype": "text/x-python",
   "name": "python",
   "nbconvert_exporter": "python",
   "pygments_lexer": "ipython3",
   "version": "3.6.6"
  }
 },
 "nbformat": 4,
 "nbformat_minor": 4
}
