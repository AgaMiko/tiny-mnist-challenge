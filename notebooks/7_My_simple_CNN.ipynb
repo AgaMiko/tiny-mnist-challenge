{
  "nbformat": 4,
  "nbformat_minor": 0,
  "metadata": {
    "colab": {
      "name": "My_simple_CNN.ipynb",
      "provenance": [],
      "collapsed_sections": []
    },
    "kernelspec": {
      "name": "python3",
      "display_name": "Python 3"
    },
    "accelerator": "GPU"
  },
  "cells": [
    {
      "cell_type": "markdown",
      "metadata": {
        "id": "Ygp8tzwUMfOc",
        "colab_type": "text"
      },
      "source": [
        "# Tiny MNIST Challenge\n",
        "Author: Agnieszka Mikołajczyk\n",
        "Customized by: Marcin Raclaw\n",
        "\n",
        "Gdańsk University of Technology\n",
        "\n",
        "Methods of Artificial Intelligence\n",
        "\n",
        "Challenge: https://www.kaggle.com/c/msi-tinymnist2020/overview\n",
        "Colab: https://colab.research.google.com/drive/11MZBLRatBPMW6PeqZMhVhwg-I43QZcFL\n",
        "\n",
        "# Hand-written digits recognition 2020\n",
        "\n",
        "![alt text](https://upload.wikimedia.org/wikipedia/commons/thumb/2/27/MnistExamples.png/220px-MnistExamples.png)\n",
        "\n",
        "### Introduction"
      ]
    },
    {
      "cell_type": "markdown",
      "metadata": {
        "id": "mV9rQhTPV6vb",
        "colab_type": "text"
      },
      "source": [
        "As a first step you have to get your kaggle *token*. Log into your kaggle account and go to *My Account* section. Click *Create new API token* and download it. Open you *kaggle.json*. You should see something like this:\n",
        "\n",
        " {`“username”:”YOUR-USERNAME”,”key”:”YOUR-VERY-LONG-KEY”}`\n",
        "\n",
        "Copy that and insert in the code below."
      ]
    },
    {
      "cell_type": "code",
      "metadata": {
        "id": "LF6MZ2Cxsz5s",
        "colab_type": "code",
        "colab": {}
      },
      "source": [
        "import os\n",
        "os.environ['KAGGLE_USERNAME'] = \"xxxxxxxxxxxx\" # username from the json file\n",
        "os.environ['KAGGLE_KEY'] = \"xxxxxxxxxxxxxxxx\" # key from the json file"
      ],
      "execution_count": 0,
      "outputs": []
    },
    {
      "cell_type": "markdown",
      "metadata": {
        "id": "qaMHjDuKFyD-",
        "colab_type": "text"
      },
      "source": [
        "Now we will install necessary libraries.\n",
        "\n",
        "*  kaggle API - useful for sending submissions  https://github.com/Kaggle/kaggle-api\n",
        "*   torch and torchvision - pytorch library, perfect for training neural networks https://pytorch.org/\n",
        "\n"
      ]
    },
    {
      "cell_type": "code",
      "metadata": {
        "id": "2EuupvLjRbz5",
        "colab_type": "code",
        "outputId": "78e3cbcf-4cb0-497b-d66d-e42c5a88298c",
        "colab": {
          "base_uri": "https://localhost:8080/",
          "height": 329
        }
      },
      "source": [
        "!pip install --upgrade kaggle\n",
        "!pip install torch\n",
        "!pip install torchvision"
      ],
      "execution_count": 0,
      "outputs": [
        {
          "output_type": "stream",
          "text": [
            "Requirement already up-to-date: kaggle in /usr/local/lib/python3.6/dist-packages (1.5.6)\n",
            "Requirement already satisfied, skipping upgrade: urllib3<1.25,>=1.21.1 in /usr/local/lib/python3.6/dist-packages (from kaggle) (1.24.3)\n",
            "Requirement already satisfied, skipping upgrade: six>=1.10 in /usr/local/lib/python3.6/dist-packages (from kaggle) (1.12.0)\n",
            "Requirement already satisfied, skipping upgrade: tqdm in /usr/local/lib/python3.6/dist-packages (from kaggle) (4.38.0)\n",
            "Requirement already satisfied, skipping upgrade: python-slugify in /usr/local/lib/python3.6/dist-packages (from kaggle) (4.0.0)\n",
            "Requirement already satisfied, skipping upgrade: python-dateutil in /usr/local/lib/python3.6/dist-packages (from kaggle) (2.8.1)\n",
            "Requirement already satisfied, skipping upgrade: certifi in /usr/local/lib/python3.6/dist-packages (from kaggle) (2019.11.28)\n",
            "Requirement already satisfied, skipping upgrade: requests in /usr/local/lib/python3.6/dist-packages (from kaggle) (2.21.0)\n",
            "Requirement already satisfied, skipping upgrade: text-unidecode>=1.3 in /usr/local/lib/python3.6/dist-packages (from python-slugify->kaggle) (1.3)\n",
            "Requirement already satisfied, skipping upgrade: idna<2.9,>=2.5 in /usr/local/lib/python3.6/dist-packages (from requests->kaggle) (2.8)\n",
            "Requirement already satisfied, skipping upgrade: chardet<3.1.0,>=3.0.2 in /usr/local/lib/python3.6/dist-packages (from requests->kaggle) (3.0.4)\n",
            "Requirement already satisfied: torch in /usr/local/lib/python3.6/dist-packages (1.4.0)\n",
            "Requirement already satisfied: torchvision in /usr/local/lib/python3.6/dist-packages (0.5.0)\n",
            "Requirement already satisfied: torch==1.4.0 in /usr/local/lib/python3.6/dist-packages (from torchvision) (1.4.0)\n",
            "Requirement already satisfied: pillow>=4.1.1 in /usr/local/lib/python3.6/dist-packages (from torchvision) (7.0.0)\n",
            "Requirement already satisfied: numpy in /usr/local/lib/python3.6/dist-packages (from torchvision) (1.18.2)\n",
            "Requirement already satisfied: six in /usr/local/lib/python3.6/dist-packages (from torchvision) (1.12.0)\n"
          ],
          "name": "stdout"
        }
      ]
    },
    {
      "cell_type": "markdown",
      "metadata": {
        "id": "-UdHBdInGfSD",
        "colab_type": "text"
      },
      "source": [
        "Now, go to your kaggle account and download dataset. Upload it below."
      ]
    },
    {
      "cell_type": "code",
      "metadata": {
        "id": "5XeNn4XdMeGb",
        "colab_type": "code",
        "outputId": "c19d30d1-4712-40cc-a52d-62ad69a056ff",
        "colab": {
          "resources": {
            "http://localhost:8080/nbextensions/google.colab/files.js": {
              "data": "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",
              "ok": true,
              "headers": [
                [
                  "content-type",
                  "application/javascript"
                ]
              ],
              "status": 200,
              "status_text": "OK"
            }
          },
          "base_uri": "https://localhost:8080/",
          "height": 80
        }
      },
      "source": [
        "from google.colab import files\n",
        "uploaded = files.upload()"
      ],
      "execution_count": 0,
      "outputs": [
        {
          "output_type": "display_data",
          "data": {
            "text/html": [
              "\n",
              "     <input type=\"file\" id=\"files-f4b7a18a-6283-4eb1-9834-eef1d3501690\" name=\"files[]\" multiple disabled />\n",
              "     <output id=\"result-f4b7a18a-6283-4eb1-9834-eef1d3501690\">\n",
              "      Upload widget is only available when the cell has been executed in the\n",
              "      current browser session. Please rerun this cell to enable.\n",
              "      </output>\n",
              "      <script src=\"/nbextensions/google.colab/files.js\"></script> "
            ],
            "text/plain": [
              "<IPython.core.display.HTML object>"
            ]
          },
          "metadata": {
            "tags": []
          }
        },
        {
          "output_type": "stream",
          "text": [
            "Saving TinyMNIST.zip to TinyMNIST.zip\n"
          ],
          "name": "stdout"
        }
      ]
    },
    {
      "cell_type": "code",
      "metadata": {
        "id": "E4T2CLiEEKYb",
        "colab_type": "code",
        "colab": {}
      },
      "source": [
        "!unzip -q TinyMNIST.zip #uzipping dataset"
      ],
      "execution_count": 0,
      "outputs": []
    },
    {
      "cell_type": "markdown",
      "metadata": {
        "id": "JQHDzPdJGhKB",
        "colab_type": "text"
      },
      "source": [
        "Now we will seed everything so the results are reproducible"
      ]
    },
    {
      "cell_type": "code",
      "metadata": {
        "id": "y5yau0GSZ5ZU",
        "colab_type": "code",
        "colab": {}
      },
      "source": [
        "import random\n",
        "import numpy as np\n",
        "import torch\n",
        "def seed_everything(seed):\n",
        "    random.seed(seed)\n",
        "    os.environ['PYTHONHASHSEED'] = str(seed)\n",
        "    np.random.seed(seed)\n",
        "    torch.manual_seed(seed)\n",
        "    torch.cuda.manual_seed(seed)\n",
        "    torch.backends.cudnn.deterministic = True\n",
        "seed_everything(2020)"
      ],
      "execution_count": 0,
      "outputs": []
    },
    {
      "cell_type": "markdown",
      "metadata": {
        "id": "VSAhHPN1l5Bb",
        "colab_type": "text"
      },
      "source": [
        "## Loading data\n",
        "Now, we will preprocess and load training set"
      ]
    },
    {
      "cell_type": "code",
      "metadata": {
        "colab_type": "code",
        "id": "1bml9Akd353P",
        "colab": {}
      },
      "source": [
        "NUM_EPOCHS = 40 # number of times which the entire dataset is passed throughout the model\n",
        "BATCH_SIZE = 60 # the size of input data took for one iteration\n",
        "lr = 1e-3 # size of step"
      ],
      "execution_count": 0,
      "outputs": []
    },
    {
      "cell_type": "code",
      "metadata": {
        "id": "kWHT-LSPl5Sw",
        "colab_type": "code",
        "outputId": "211c9abb-77d7-4881-9299-f13ca7bad3ef",
        "colab": {
          "base_uri": "https://localhost:8080/",
          "height": 54
        }
      },
      "source": [
        "import torch.nn as nn\n",
        "import torchvision.datasets as dsets\n",
        "import torchvision.transforms as transforms\n",
        "from torch.autograd import Variable\n",
        "\n",
        "train_dataset = dsets.ImageFolder(\n",
        "        root='TinyMNIST/train',\n",
        "        transform=transforms.Compose([transforms.Grayscale(num_output_channels=1),transforms.ToTensor()])\n",
        "    )\n",
        "\n",
        "train_set,valid_set =torch.utils.data.random_split(train_dataset, [3200, 800])\n",
        "\n",
        "train_gen = torch.utils.data.DataLoader(dataset=train_set,\n",
        "                                             batch_size = BATCH_SIZE,\n",
        "                                             shuffle = True)\n",
        "\n",
        "valid_gen = torch.utils.data.DataLoader(dataset = valid_set,\n",
        "                                      batch_size = 800, \n",
        "                                      shuffle = False)\n",
        "\n",
        "\n",
        "print('Loaded ', len(train_set), 'training images and ', len(valid_set), ' validation images.')\n",
        "print('Classes detected: ', train_dataset.classes)"
      ],
      "execution_count": 0,
      "outputs": [
        {
          "output_type": "stream",
          "text": [
            "Loaded  3200 training images and  800  validation images.\n",
            "Classes detected:  ['0', '1', '2', '3', '4', '5', '6', '7', '8', '9']\n"
          ],
          "name": "stdout"
        }
      ]
    },
    {
      "cell_type": "markdown",
      "metadata": {
        "id": "tilJBo7koGdr",
        "colab_type": "text"
      },
      "source": [
        "## Architecture\n",
        "Defining simple net - fully connected network with 2 layers."
      ]
    },
    {
      "cell_type": "code",
      "metadata": {
        "id": "VOGeJOmLaVY7",
        "colab_type": "code",
        "colab": {}
      },
      "source": [
        "class ConvNetwork(nn.Module):\n",
        "  def __init__(self):\n",
        "    super(ConvNetwork,self).__init__()\n",
        "\n",
        "    self.relu = nn.ReLU()\n",
        "    self.conv1 = nn.Conv2d(1, 20,kernel_size= 5)          # (N, 1, 28, 28) -> (N,  x, 24, 24)\n",
        "    self.conv2 = nn.Conv2d(20, 40, kernel_size=5)         # (N, 1, 24, 24) -> (N,  x, 20, 20)\n",
        "    self.conv3 = nn.Conv2d(40, 80, kernel_size=4)         # (N, 1, 21, 21) -> (N,  x, 17, 17)\n",
        "    self.conv4 = nn.Conv2d(80, 160, kernel_size=3)        # (N, 1, 19, 19) -> (N,  x, 15, 15)\n",
        "    self.conv5 = nn.Conv2d(160, 320, kernel_size=2)       # (N, 1, 17, 17) -> (N,  x, 14, 14)\n",
        "\n",
        "    self.avg = nn.AvgPool2d(2, stride=2)      # (N, x, 16, 16) -> (N,  x, 7, 7)\n",
        "    self.batch = nn.BatchNorm2d(320)\n",
        "    self.fc = nn.Linear(320*7*7, 2000)\n",
        "    self.fc1 = nn.Linear(2000, 10)\n",
        "  def forward(self, x):\n",
        "      x = self.relu(self.conv1(x))\n",
        "      x = self.relu(self.conv2(x))\n",
        "      nn.Dropout2d(0.2)\n",
        "      x = self.relu(self.conv3(x))\n",
        "      x = self.relu(self.conv4(x))\n",
        "      nn.Dropout2d(0.2)\n",
        "      x = self.relu(self.conv5(x))\n",
        "      x = self.relu(self.avg(x))\n",
        "      x = self.relu(self.batch(x))\n",
        "      x = x.view(-1, 320*7*7)\n",
        "      x = self.fc(x)\n",
        "      x = self.fc1(x)\n",
        "      return x"
      ],
      "execution_count": 0,
      "outputs": []
    },
    {
      "cell_type": "code",
      "metadata": {
        "id": "u1ZjmhSU6IS3",
        "colab_type": "code",
        "colab": {}
      },
      "source": [
        "class ConvNetwork(nn.Module):\n",
        "  def __init__(self):\n",
        "    super(ConvNetwork,self).__init__()\n",
        "\n",
        "    \n",
        "    self.conv1 = nn.Conv2d(1, 20, kernel_size=6) # convolutional layer\n",
        "    self.relu = nn.ReLU() # activation function: relu\n",
        "    self.conv2 = nn.Conv2d(20, 40, kernel_size=5) # second convolutional layer\n",
        "    self.conv3 = nn.Conv2d(40, 80, kernel_size=5) # third convolutional layer\n",
        "    self.conv4 = nn.Conv2d(80, 160, kernel_size=4) # 4-th convolutional layer\n",
        "    self.conv5 = nn.Conv2d(160, 320, kernel_size=4) # 5-th convolutional layer\n",
        "    self.conv6 = nn.Conv2d(320, 640, kernel_size=4)\n",
        "    self.fc1 = nn.Linear(320*9*9, 10000)\n",
        "    self.fc2 = nn.Linear(10000, 2000)\n",
        "    self.fc = nn.Linear(640*6*6, 10) # output layer\n",
        "    self.batch = nn.BatchNorm2d(320)\n",
        "    self.batch1 = nn.BatchNorm2d(640)\n",
        "#    self.softplus = nn.Softplus()\n",
        "#    self.conv2_drop = nn.Dropout2d()\n",
        "\n",
        "\n",
        "  # definition how the signal goes through the network\n",
        "  def forward(self,x):\n",
        "    x = self.conv1(x)\n",
        "    x = self.relu(x)\n",
        "    x = self.conv2(x)\n",
        "    x = self.relu(x)\n",
        "    x = self.conv3(x)\n",
        "    x = self.relu(x)\n",
        "    x = self.conv4(x)\n",
        "    x = self.relu(x)\n",
        "    x = self.conv5(x)\n",
        "    x = self.relu(x)\n",
        "    x = self.conv6(x)\n",
        "    x = self.relu(x)\n",
        "    x = x.view(-1, 640*6*6)\n",
        "    out = self.fc(x)\n",
        "    return out\n"
      ],
      "execution_count": 0,
      "outputs": []
    },
    {
      "cell_type": "code",
      "metadata": {
        "id": "l9r6gGCZ6tJQ",
        "colab_type": "code",
        "colab": {}
      },
      "source": [
        "net = ConvNetwork()\n"
      ],
      "execution_count": 0,
      "outputs": []
    },
    {
      "cell_type": "markdown",
      "metadata": {
        "id": "9EtKdyG2jQFf",
        "colab_type": "text"
      },
      "source": [
        "## Define loss function"
      ]
    },
    {
      "cell_type": "code",
      "metadata": {
        "id": "-yG3hSTTDefW",
        "colab_type": "code",
        "colab": {}
      },
      "source": [
        "loss_function = nn.CrossEntropyLoss()\n",
        "optimizer = torch.optim.Adam(net.parameters(), lr=lr)\n",
        "#optimizer = torch.optim.Adadelta(net.parameters(), lr=lr, rho=0.9, eps=1e-06, weight_decay=0)"
      ],
      "execution_count": 0,
      "outputs": []
    },
    {
      "cell_type": "markdown",
      "metadata": {
        "id": "itOwE8BMjXrl",
        "colab_type": "text"
      },
      "source": [
        "## Training"
      ]
    },
    {
      "cell_type": "code",
      "metadata": {
        "id": "7QpR0ixRDhhA",
        "colab_type": "code",
        "outputId": "640cc52b-970b-458a-a7df-a0fd998793b9",
        "colab": {
          "base_uri": "https://localhost:8080/",
          "height": 54
        }
      },
      "source": [
        "print('Start training') \n",
        "for epoch in range(NUM_EPOCHS):\n",
        "  \n",
        "\n",
        "  for i,(images,labels) in enumerate(train_gen):\n",
        "\n",
        "      optimizer.zero_grad()\n",
        "      outputs = net(images)\n",
        "\n",
        "      loss = loss_function(outputs, labels)\n",
        "      loss.backward()\n",
        "      optimizer.step()\n",
        "\n",
        "  print('\\repoch: ',epoch + 1,\"/ \",NUM_EPOCHS, loss,end=\"\")\n",
        "  if loss < 1e-8 and loss > 0 and epoch>10:\n",
        "   break\n",
        " "
      ],
      "execution_count": 0,
      "outputs": [
        {
          "output_type": "stream",
          "text": [
            "Start training\n",
            "epoch:  40 /  40 tensor(1.3113e-06, grad_fn=<NllLossBackward>)"
          ],
          "name": "stdout"
        }
      ]
    },
    {
      "cell_type": "code",
      "metadata": {
        "id": "6Id6tO5eIPpq",
        "colab_type": "code",
        "outputId": "75c5ef53-5de7-43a4-9920-cc8b0b0e32d6",
        "colab": {
          "base_uri": "https://localhost:8080/",
          "height": 36
        }
      },
      "source": [
        "from google.colab import drive\n",
        "drive.mount('/content/drive')"
      ],
      "execution_count": 0,
      "outputs": [
        {
          "output_type": "stream",
          "text": [
            "Drive already mounted at /content/drive; to attempt to forcibly remount, call drive.mount(\"/content/drive\", force_remount=True).\n"
          ],
          "name": "stdout"
        }
      ]
    },
    {
      "cell_type": "markdown",
      "metadata": {
        "id": "TmDncjvTja_W",
        "colab_type": "text"
      },
      "source": [
        "## Testing neural network"
      ]
    },
    {
      "cell_type": "code",
      "metadata": {
        "id": "XHUIZt0ZICNF",
        "colab_type": "code",
        "outputId": "883636a4-1d4d-415e-84bd-db59233ad998",
        "colab": {
          "base_uri": "https://localhost:8080/",
          "height": 436
        }
      },
      "source": [
        "import pandas as pd\n",
        "import matplotlib.pyplot as plt\n",
        "import seaborn as sn\n",
        "from sklearn.metrics import confusion_matrix\n",
        "\n",
        "def plot_confusion_matrix(valid_gen):\n",
        "  confusion_matrix = torch.zeros(10, 10)\n",
        "  with torch.no_grad():\n",
        "      for i, (images,labels) in enumerate(valid_gen):\n",
        "          outputs = net(images)\n",
        "          _, preds = torch.max(outputs, 1)\n",
        "         \n",
        "          for t, p in zip(labels.view(-1), preds.view(-1)):\n",
        "                  confusion_matrix[t.long(), p.long()] += 1\n",
        "\n",
        "  df_cm = pd.DataFrame(confusion_matrix.cpu().detach().numpy()/len(valid_gen.dataset)*10, range(10), range(10))\n",
        "  plt.figure(figsize=(10,7))\n",
        "  sn.set(font_scale=1.4) # for label size\n",
        "  sn.heatmap(df_cm, annot=True, annot_kws={\"size\": 14}) # font size\n",
        "  plt.show()\n",
        "\n",
        "plot_confusion_matrix(valid_gen)"
      ],
      "execution_count": 0,
      "outputs": [
        {
          "output_type": "display_data",
          "data": {
            "image/png": "[encoded data removed]",
            "text/plain": [
              "<Figure size 720x504 with 2 Axes>"
            ]
          },
          "metadata": {
            "tags": []
          }
        }
      ]
    },
    {
      "cell_type": "markdown",
      "metadata": {
        "id": "EyE8hogfWp5L",
        "colab_type": "text"
      },
      "source": [
        "# Let's generate outputs for test data!"
      ]
    },
    {
      "cell_type": "code",
      "metadata": {
        "id": "5w6bKx0JjtZE",
        "colab_type": "code",
        "outputId": "7bcdfa09-8dab-452b-e13e-912947eb02cf",
        "colab": {
          "base_uri": "https://localhost:8080/",
          "height": 36
        }
      },
      "source": [
        "def predict(test_gen):\n",
        "  with torch.no_grad():\n",
        "  \n",
        "      for data, labels in test_gen:\n",
        "        print(data.size())\n",
        "        outputs = net(data)\n",
        "        _, preds = torch.max(outputs, 1)\n",
        "  return preds\n",
        "\n",
        "test_dataset = dsets.ImageFolder(\n",
        "        root='TinyMNIST/test',\n",
        "        transform=transforms.Compose([transforms.Grayscale(num_output_channels=1),transforms.ToTensor()]),\n",
        "    )\n",
        "\n",
        "test_gen = torch.utils.data.DataLoader(dataset=test_dataset,\n",
        "                                             batch_size = 600,\n",
        "                                             shuffle = False)\n",
        "preds = predict(test_gen)\n"
      ],
      "execution_count": 0,
      "outputs": [
        {
          "output_type": "stream",
          "text": [
            "torch.Size([600, 1, 28, 28])\n"
          ],
          "name": "stdout"
        }
      ]
    },
    {
      "cell_type": "markdown",
      "metadata": {
        "id": "GkV89ElGUpC3",
        "colab_type": "text"
      },
      "source": [
        "# Generate submission file\n",
        "Now, finally we can generate submission file with our test data. We will define a new function because we might want to use it later."
      ]
    },
    {
      "cell_type": "code",
      "metadata": {
        "id": "wKWWclW50kDd",
        "colab_type": "code",
        "outputId": "5319904e-571f-4e2e-afc4-61ee3a08b1fe",
        "colab": {
          "base_uri": "https://localhost:8080/",
          "height": 148
        }
      },
      "source": [
        "def generate_submission(predictions,test_dataset):\n",
        "  ids = []\n",
        "  labels = []\n",
        "  for predictions,sample in zip(predictions,test_dataset.imgs):\n",
        "    ids.append(predictions)\n",
        "    sample=list(sample)[0]\n",
        "    labels.append(int(sample.split(\"_\",1)[1].split(\".\",1)[0]))\n",
        "  ids_s,labels_s = zip(*sorted(zip(labels, ids)))\n",
        "  df = pd.DataFrame()\n",
        "  df['id']=ids_s\n",
        "  df['category']=labels_s\n",
        "  df.set_index('id',inplace = True)\n",
        "  print(df.head())\n",
        "  df.to_csv('test_submission.csv', header=True)\n",
        "\n",
        "generate_submission(preds,test_dataset)"
      ],
      "execution_count": 0,
      "outputs": [
        {
          "output_type": "stream",
          "text": [
            "    category\n",
            "id          \n",
            "0          1\n",
            "1          0\n",
            "2          1\n",
            "3          4\n",
            "4          0\n"
          ],
          "name": "stdout"
        }
      ]
    },
    {
      "cell_type": "markdown",
      "metadata": {
        "id": "k8P4V3bmUoVU",
        "colab_type": "text"
      },
      "source": [
        "# Send submission using kaggle API"
      ]
    },
    {
      "cell_type": "code",
      "metadata": {
        "id": "TemS4VQK0xWs",
        "colab_type": "code",
        "outputId": "34baaf79-7dc5-4b99-a6a8-3f2bf14844af",
        "colab": {
          "base_uri": "https://localhost:8080/",
          "height": 73
        }
      },
      "source": [
        "!kaggle competitions submit -c msi-tinymnist2020 -f test_submission.csv -m \"Jupyter notebook test submission\""
      ],
      "execution_count": 0,
      "outputs": [
        {
          "output_type": "stream",
          "text": [
            "Warning: Looks like you're using an outdated API Version, please consider updating (server 1.5.6 / client 1.5.4)\n",
            "100% 3.42k/3.42k [00:01<00:00, 3.00kB/s]\n",
            "Successfully submitted to MSI Tiny MNIST Challenge 2020"
          ],
          "name": "stdout"
        }
      ]
    }
  ]
}
