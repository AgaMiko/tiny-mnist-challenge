{
  "nbformat": 4,
  "nbformat_minor": 0,
  "metadata": {
    "colab": {
      "name": "simple_CNN.ipynb",
      "provenance": [],
      "collapsed_sections": []
    },
    "kernelspec": {
      "name": "python3",
      "display_name": "Python 3"
    },
    "accelerator": "GPU"
  },
  "cells": [
    {
      "cell_type": "markdown",
      "metadata": {
        "id": "Ygp8tzwUMfOc",
        "colab_type": "text"
      },
      "source": [
        "# Tiny MNIST Challenge\n",
        "Author: Agnieszka Mikołajczyk\n",
        "\n",
        "Gdańsk University of Technology\n",
        "\n",
        "Methods of Artificial Intelligence\n",
        "\n",
        "Challenge: https://www.kaggle.com/c/msi-tinymnist2020/overview\n",
        "Colab: https://colab.research.google.com/drive/11MZBLRatBPMW6PeqZMhVhwg-I43QZcFL\n",
        "\n",
        "# Hand-written digits recognition 2020\n",
        "\n",
        "![alt text](https://upload.wikimedia.org/wikipedia/commons/thumb/2/27/MnistExamples.png/220px-MnistExamples.png)\n",
        "\n",
        "### Introduction"
      ]
    },
    {
      "cell_type": "markdown",
      "metadata": {
        "id": "mV9rQhTPV6vb",
        "colab_type": "text"
      },
      "source": [
        "As a first step you have to get your kaggle *token*. Log into your kaggle account and go to *My Account* section. Click *Create new API token* and download it. Open you *kaggle.json*. You should see something like this:\n",
        "\n",
        " {`“username”:”YOUR-USERNAME”,”key”:”YOUR-VERY-LONG-KEY”}`\n",
        "\n",
        "Copy that and insert in the code below."
      ]
    },
    {
      "cell_type": "code",
      "metadata": {
        "id": "LF6MZ2Cxsz5s",
        "colab_type": "code",
        "colab": {}
      },
      "source": [
        "import os\n",
        "os.environ['KAGGLE_USERNAME'] = \"xxxxxxxxx\" # username from the json file\n",
        "os.environ['KAGGLE_KEY'] = \"xxxxxxxxxxxxxxxxxxxxxxxxxxxxx\" # key from the json file"
      ],
      "execution_count": 0,
      "outputs": []
    },
    {
      "cell_type": "markdown",
      "metadata": {
        "id": "qaMHjDuKFyD-",
        "colab_type": "text"
      },
      "source": [
        "Now we will install necessary libraries.\n",
        "\n",
        "*  kaggle API - useful for sending submissions  https://github.com/Kaggle/kaggle-api\n",
        "*   torch and torchvision - pytorch library, perfect for training neural networks https://pytorch.org/\n",
        "\n"
      ]
    },
    {
      "cell_type": "code",
      "metadata": {
        "id": "2EuupvLjRbz5",
        "colab_type": "code",
        "colab": {}
      },
      "source": [
        "!pip install --upgrade kaggle\n",
        "!pip install torch\n",
        "!pip install torchvision"
      ],
      "execution_count": 0,
      "outputs": []
    },
    {
      "cell_type": "markdown",
      "metadata": {
        "id": "-UdHBdInGfSD",
        "colab_type": "text"
      },
      "source": [
        "Now, go to your kaggle account and download dataset. Upload it below."
      ]
    },
    {
      "cell_type": "code",
      "metadata": {
        "id": "5XeNn4XdMeGb",
        "colab_type": "code",
        "colab": {}
      },
      "source": [
        "from google.colab import files\n",
        "uploaded = files.upload()"
      ],
      "execution_count": 0,
      "outputs": []
    },
    {
      "cell_type": "code",
      "metadata": {
        "id": "E4T2CLiEEKYb",
        "colab_type": "code",
        "colab": {}
      },
      "source": [
        "!unzip -q TinyMNIST.zip #uzipping dataset"
      ],
      "execution_count": 0,
      "outputs": []
    },
    {
      "cell_type": "markdown",
      "metadata": {
        "id": "JQHDzPdJGhKB",
        "colab_type": "text"
      },
      "source": [
        "Now we will seed everything so the results are reproducible"
      ]
    },
    {
      "cell_type": "code",
      "metadata": {
        "id": "y5yau0GSZ5ZU",
        "colab_type": "code",
        "colab": {}
      },
      "source": [
        "import random\n",
        "import numpy as np\n",
        "import torch\n",
        "def seed_everything(seed):\n",
        "    random.seed(seed)\n",
        "    os.environ['PYTHONHASHSEED'] = str(seed)\n",
        "    np.random.seed(seed)\n",
        "    torch.manual_seed(seed)\n",
        "    torch.cuda.manual_seed(seed)\n",
        "    torch.backends.cudnn.deterministic = True\n",
        "seed_everything(2020)"
      ],
      "execution_count": 0,
      "outputs": []
    },
    {
      "cell_type": "markdown",
      "metadata": {
        "id": "VSAhHPN1l5Bb",
        "colab_type": "text"
      },
      "source": [
        "## Loading data\n",
        "Now, we will preprocess and load training set"
      ]
    },
    {
      "cell_type": "code",
      "metadata": {
        "colab_type": "code",
        "id": "1bml9Akd353P",
        "colab": {}
      },
      "source": [
        "NUM_EPOCHS = 20 # number of times which the entire dataset is passed throughout the model\n",
        "BATCH_SIZE = 64 # the size of input data took for one iteration\n",
        "lr = 1e-3 # size of step"
      ],
      "execution_count": 0,
      "outputs": []
    },
    {
      "cell_type": "code",
      "metadata": {
        "id": "kWHT-LSPl5Sw",
        "colab_type": "code",
        "outputId": "4f0b249a-94cd-45e6-b8d2-5c2df9dd82b6",
        "colab": {
          "base_uri": "https://localhost:8080/",
          "height": 54
        }
      },
      "source": [
        "import torch.nn as nn\n",
        "import torchvision.datasets as dsets\n",
        "import torchvision.transforms as transforms\n",
        "from torch.autograd import Variable\n",
        "\n",
        "train_dataset = dsets.ImageFolder(\n",
        "        root='TinyMNIST/train',\n",
        "        transform=transforms.Compose([transforms.Grayscale(num_output_channels=1),transforms.ToTensor()])\n",
        "    )\n",
        "\n",
        "train_set,valid_set =torch.utils.data.random_split(train_dataset, [3200, 800])\n",
        "\n",
        "train_gen = torch.utils.data.DataLoader(dataset=train_set,\n",
        "                                             batch_size = BATCH_SIZE,\n",
        "                                             shuffle = True)\n",
        "\n",
        "valid_gen = torch.utils.data.DataLoader(dataset = valid_set,\n",
        "                                      batch_size = 800, \n",
        "                                      shuffle = False)\n",
        "\n",
        "\n",
        "print('Loaded ', len(train_set), 'training images and ', len(valid_set), ' validation images.')\n",
        "print('Classes detected: ', train_dataset.classes)"
      ],
      "execution_count": 5,
      "outputs": [
        {
          "output_type": "stream",
          "text": [
            "Loaded  3200 training images and  800  validation images.\n",
            "Classes detected:  ['0', '1', '2', '3', '4', '5', '6', '7', '8', '9']\n"
          ],
          "name": "stdout"
        }
      ]
    },
    {
      "cell_type": "markdown",
      "metadata": {
        "id": "tilJBo7koGdr",
        "colab_type": "text"
      },
      "source": [
        "## Architecture\n",
        "Defining simple net - fully connected network with 2 layers."
      ]
    },
    {
      "cell_type": "code",
      "metadata": {
        "id": "u1ZjmhSU6IS3",
        "colab_type": "code",
        "colab": {}
      },
      "source": [
        "class ConvNetwork(nn.Module):\n",
        "  def __init__(self):\n",
        "    super(ConvNetwork,self).__init__()\n",
        "    # definition of layers\n",
        "    self.conv1 = nn.Conv2d(1, 16, kernel_size=5) # convolutional layer\n",
        "    self.relu = nn.ReLU() # activation function: relu\n",
        "    self.conv2 = nn.Conv2d(16, 32, kernel_size=5) # second convolutional layer\n",
        "    self.fc = nn.Linear(32*20*20, 10) # output layer\n",
        "\n",
        "  # definition how the signal goes through the network\n",
        "  def forward(self,x):\n",
        "    x = self.conv1(x)\n",
        "    x = self.relu(x)\n",
        "    x = self.conv2(x)\n",
        "    x = x.view(-1, 32*20*20)\n",
        "    out = self.fc(x)\n",
        "    return out"
      ],
      "execution_count": 0,
      "outputs": []
    },
    {
      "cell_type": "code",
      "metadata": {
        "id": "l9r6gGCZ6tJQ",
        "colab_type": "code",
        "colab": {}
      },
      "source": [
        "net = ConvNetwork()\n"
      ],
      "execution_count": 0,
      "outputs": []
    },
    {
      "cell_type": "markdown",
      "metadata": {
        "id": "9EtKdyG2jQFf",
        "colab_type": "text"
      },
      "source": [
        "## Define loss function"
      ]
    },
    {
      "cell_type": "code",
      "metadata": {
        "id": "-yG3hSTTDefW",
        "colab_type": "code",
        "colab": {}
      },
      "source": [
        "loss_function = nn.CrossEntropyLoss()\n",
        "optimizer = torch.optim.Adam(net.parameters(), lr=lr)"
      ],
      "execution_count": 0,
      "outputs": []
    },
    {
      "cell_type": "markdown",
      "metadata": {
        "id": "itOwE8BMjXrl",
        "colab_type": "text"
      },
      "source": [
        "## Training"
      ]
    },
    {
      "cell_type": "code",
      "metadata": {
        "id": "7QpR0ixRDhhA",
        "colab_type": "code",
        "outputId": "847a6247-e4b9-4c45-8c0e-24ae437c27c8",
        "colab": {
          "base_uri": "https://localhost:8080/",
          "height": 54
        }
      },
      "source": [
        "print('Start training') \n",
        "for epoch in range(NUM_EPOCHS):\n",
        "  \n",
        "  for i,(images,labels) in enumerate(train_gen):\n",
        "\n",
        "    optimizer.zero_grad()\n",
        "    outputs = net(images)\n",
        "\n",
        "    loss = loss_function(outputs, labels)\n",
        "    loss.backward()\n",
        "    optimizer.step()\n",
        "  \n",
        "  print('\\repoch: ',epoch,\"/ \",NUM_EPOCHS, loss,end=\"\")  "
      ],
      "execution_count": 9,
      "outputs": [
        {
          "output_type": "stream",
          "text": [
            "Start training\n",
            "epoch:  19 /  20 tensor(0.0005, grad_fn=<NllLossBackward>)"
          ],
          "name": "stdout"
        }
      ]
    },
    {
      "cell_type": "markdown",
      "metadata": {
        "id": "TmDncjvTja_W",
        "colab_type": "text"
      },
      "source": [
        "## Testing neural network"
      ]
    },
    {
      "cell_type": "code",
      "metadata": {
        "id": "XHUIZt0ZICNF",
        "colab_type": "code",
        "outputId": "cfebf047-3c77-493d-f4d7-534abac08d9b",
        "colab": {
          "base_uri": "https://localhost:8080/",
          "height": 493
        }
      },
      "source": [
        "import pandas as pd\n",
        "import matplotlib.pyplot as plt\n",
        "import seaborn as sn\n",
        "from sklearn.metrics import confusion_matrix\n",
        "\n",
        "def plot_confusion_matrix(valid_gen):\n",
        "  confusion_matrix = torch.zeros(10, 10)\n",
        "  with torch.no_grad():\n",
        "      for i, (images,labels) in enumerate(valid_gen):\n",
        "          outputs = net(images)\n",
        "          _, preds = torch.max(outputs, 1)\n",
        "         \n",
        "          for t, p in zip(labels.view(-1), preds.view(-1)):\n",
        "                  confusion_matrix[t.long(), p.long()] += 1\n",
        "\n",
        "  df_cm = pd.DataFrame(confusion_matrix.cpu().detach().numpy()/len(valid_gen.dataset)*10, range(10), range(10))\n",
        "  plt.figure(figsize=(10,7))\n",
        "  sn.set(font_scale=1.4) # for label size\n",
        "  sn.heatmap(df_cm, annot=True, annot_kws={\"size\": 14}) # font size\n",
        "  plt.show()\n",
        "\n",
        "plot_confusion_matrix(valid_gen)"
      ],
      "execution_count": 10,
      "outputs": [
        {
          "output_type": "stream",
          "text": [
            "/usr/local/lib/python3.6/dist-packages/statsmodels/tools/_testing.py:19: FutureWarning: pandas.util.testing is deprecated. Use the functions in the public API at pandas.testing instead.\n",
            "  import pandas.util.testing as tm\n"
          ],
          "name": "stderr"
        },
        {
          "output_type": "display_data",
          "data": {
            "image/png": "[encoded data removed]",
            "text/plain": [
              "<Figure size 720x504 with 2 Axes>"
            ]
          },
          "metadata": {
            "tags": []
          }
        }
      ]
    },
    {
      "cell_type": "markdown",
      "metadata": {
        "id": "EyE8hogfWp5L",
        "colab_type": "text"
      },
      "source": [
        "# Let's generate outputs for test data!"
      ]
    },
    {
      "cell_type": "code",
      "metadata": {
        "id": "5w6bKx0JjtZE",
        "colab_type": "code",
        "outputId": "7125b1d3-daf8-4418-ff72-62da5c999ef1",
        "colab": {
          "base_uri": "https://localhost:8080/",
          "height": 35
        }
      },
      "source": [
        "def predict(test_gen):\n",
        "  with torch.no_grad():\n",
        "  \n",
        "      for data, labels in test_gen:\n",
        "        print(data.size())\n",
        "        outputs = net(data)\n",
        "        _, preds = torch.max(outputs, 1)\n",
        "  return preds\n",
        "\n",
        "test_dataset = dsets.ImageFolder(\n",
        "        root='TinyMNIST/test',\n",
        "        transform=transforms.Compose([transforms.Grayscale(num_output_channels=1),transforms.ToTensor()]),\n",
        "    )\n",
        "\n",
        "test_gen = torch.utils.data.DataLoader(dataset=test_dataset,\n",
        "                                             batch_size = 600,\n",
        "                                             shuffle = False)\n",
        "preds = predict(test_gen)\n"
      ],
      "execution_count": 11,
      "outputs": [
        {
          "output_type": "stream",
          "text": [
            "torch.Size([600, 1, 28, 28])\n"
          ],
          "name": "stdout"
        }
      ]
    },
    {
      "cell_type": "markdown",
      "metadata": {
        "id": "GkV89ElGUpC3",
        "colab_type": "text"
      },
      "source": [
        "# Generate submission file\n",
        "Now, finally we can generate submission file with our test data. We will define a new function because we might want to use it later."
      ]
    },
    {
      "cell_type": "code",
      "metadata": {
        "id": "wKWWclW50kDd",
        "colab_type": "code",
        "outputId": "df1c6bfa-3d42-46eb-f779-80d5dbb9b3c1",
        "colab": {
          "base_uri": "https://localhost:8080/",
          "height": 145
        }
      },
      "source": [
        "def generate_submission(predictions,test_dataset):\n",
        "  ids = []\n",
        "  labels = []\n",
        "  for predictions,sample in zip(predictions,test_dataset.imgs):\n",
        "    ids.append(predictions)\n",
        "    sample=list(sample)[0]\n",
        "    labels.append(int(sample.split(\"_\",1)[1].split(\".\",1)[0]))\n",
        "  ids_s,labels_s = zip(*sorted(zip(labels, ids)))\n",
        "  df = pd.DataFrame()\n",
        "  df['id']=ids_s\n",
        "  df['category']=labels_s\n",
        "  df.set_index('id',inplace = True)\n",
        "  print(df.head())\n",
        "  df.to_csv('test_submission.csv', header=True)\n",
        "\n",
        "generate_submission(preds,test_dataset)"
      ],
      "execution_count": 12,
      "outputs": [
        {
          "output_type": "stream",
          "text": [
            "    category\n",
            "id          \n",
            "0          1\n",
            "1          0\n",
            "2          1\n",
            "3          4\n",
            "4          0\n"
          ],
          "name": "stdout"
        }
      ]
    },
    {
      "cell_type": "markdown",
      "metadata": {
        "id": "k8P4V3bmUoVU",
        "colab_type": "text"
      },
      "source": [
        "# Send submission using kaggle API"
      ]
    },
    {
      "cell_type": "code",
      "metadata": {
        "id": "TemS4VQK0xWs",
        "colab_type": "code",
        "outputId": "20160f6b-7582-4872-96d6-0f9a5b3c1047",
        "colab": {
          "base_uri": "https://localhost:8080/",
          "height": 92
        }
      },
      "source": [
        "!kaggle competitions submit -c msi-tinymnist2020 -f test_submission.csv -m \"Jupyter notebook test submission\""
      ],
      "execution_count": 0,
      "outputs": [
        {
          "output_type": "stream",
          "text": [
            "Warning: Looks like you're using an outdated API Version, please consider updating (server 1.5.6 / client 1.5.4)\n",
            "100% 3.42k/3.42k [00:04<00:00, 870B/s]\n",
            "Successfully submitted to MSI Tiny MNIST Challenge 2020"
          ],
          "name": "stdout"
        }
      ]
    }
  ]
}